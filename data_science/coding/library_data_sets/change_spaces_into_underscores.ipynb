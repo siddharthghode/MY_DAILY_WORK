{
 "cells": [
  {
   "cell_type": "code",
   "execution_count": 2,
   "id": "900359fc-620a-442d-829d-aac610bec058",
   "metadata": {},
   "outputs": [
    {
     "name": "stdout",
     "output_type": "stream",
     "text": [
      "An unexpected error occurred: 'utf-8' codec can't decode byte 0xc3 in position 1239: invalid continuation byte\n"
     ]
    }
   ],
   "source": [
    "import csv\n",
    "import os\n",
    "\n",
    "def replace_spaces_in_csv(input_file, output_file):\n",
    "    \"\"\"\n",
    "    Reads a semicolon-delimited CSV file, replaces spaces in each cell\n",
    "    with underscores, and saves the result to a new file.\n",
    "    \n",
    "    Args:\n",
    "        input_file (str): The path to the source CSV file.\n",
    "        output_file (str): The path to save the modified CSV file.\n",
    "    \"\"\"\n",
    "    # Get the directory of the current Jupyter notebook\n",
    "    notebook_dir = os.getcwd()\n",
    "    input_path = os.path.join(notebook_dir, input_file)\n",
    "    output_path = os.path.join(notebook_dir, output_file)\n",
    "\n",
    "    try:\n",
    "        # Open the source file for reading and the destination file for writing\n",
    "        with open(input_path, 'r', newline='', encoding='utf-8') as infile, \\\n",
    "             open(output_path, 'w', newline='', encoding='utf-8') as outfile:\n",
    "\n",
    "            # IMPORTANT: Specify that the delimiter is a semicolon\n",
    "            reader = csv.reader(infile, delimiter=';')\n",
    "            writer = csv.writer(outfile, delimiter=';')\n",
    "\n",
    "            # Loop through each row in the input file\n",
    "            for row in reader:\n",
    "                # Use a list comprehension to replace \" \" with \"_\" in each cell\n",
    "                new_row = [cell.replace(\" \", \"_\") for cell in row]\n",
    "                # Write the modified row to the new file\n",
    "                writer.writerow(new_row)\n",
    "\n",
    "        print(f\"✅ Success! File processed correctly.\")\n",
    "        print(f\"The new file is saved as: {output_path}\")\n",
    "\n",
    "    except FileNotFoundError:\n",
    "        print(f\"❌ Error: The file '{input_path}' was not found.\")\n",
    "        print(\"Please make sure 'before_cleaning_data.csv' is in the same folder as your Jupyter notebook.\")\n",
    "    except Exception as e:\n",
    "        print(f\"An unexpected error occurred: {e}\")\n",
    "\n",
    "\n",
    "# --- How to Use ---\n",
    "# 1. Make sure 'before_cleaning_data.csv' is in the same directory as your notebook.\n",
    "# 2. Run this cell in Jupyter Lab.\n",
    "\n",
    "input_filename = 'before_cleaning_data.csv'\n",
    "output_filename = 'after_cleaning_data.csv'\n",
    "\n",
    "replace_spaces_in_csv(input_filename, output_filename)"
   ]
  },
  {
   "cell_type": "code",
   "execution_count": 3,
   "id": "6f7f768c-1441-4c68-87ff-265d40ed7f32",
   "metadata": {},
   "outputs": [
    {
     "name": "stdout",
     "output_type": "stream",
     "text": [
      "✅ Success! File processed correctly.\n",
      "The new file is saved as: D:\\DATA SCIENCE\\coding\\library_data_sets\\after_cleaning_data.csv\n"
     ]
    }
   ],
   "source": [
    "import csv\n",
    "import os\n",
    "\n",
    "def replace_spaces_in_csv(input_file, output_file):\n",
    "    \"\"\"\n",
    "    Reads a semicolon-delimited CSV file, replaces spaces in each cell\n",
    "    with underscores, and saves the result to a new file.\n",
    "    \"\"\"\n",
    "    notebook_dir = os.getcwd()\n",
    "    input_path = os.path.join(notebook_dir, input_file)\n",
    "    output_path = os.path.join(notebook_dir, output_file)\n",
    "\n",
    "    try:\n",
    "        # Open the files using the 'latin-1' encoding\n",
    "        with open(input_path, 'r', newline='', encoding='latin-1') as infile, \\\n",
    "             open(output_path, 'w', newline='', encoding='latin-1') as outfile:\n",
    "\n",
    "            # Specify that the delimiter is a semicolon\n",
    "            reader = csv.reader(infile, delimiter=';')\n",
    "            writer = csv.writer(outfile, delimiter=';')\n",
    "\n",
    "            # Loop through each row and process it\n",
    "            for row in reader:\n",
    "                new_row = [cell.replace(\" \", \"_\") for cell in row]\n",
    "                writer.writerow(new_row)\n",
    "\n",
    "        print(f\"✅ Success! File processed correctly.\")\n",
    "        print(f\"The new file is saved as: {output_path}\")\n",
    "\n",
    "    except FileNotFoundError:\n",
    "        print(f\"❌ Error: The file '{input_path}' was not found.\")\n",
    "    except Exception as e:\n",
    "        print(f\"An unexpected error occurred: {e}\")\n",
    "\n",
    "\n",
    "# --- Run the function ---\n",
    "input_filename = 'before_cleaning_data.csv'\n",
    "output_filename = 'after_cleaning_data.csv'\n",
    "\n",
    "replace_spaces_in_csv(input_filename, output_filename)"
   ]
  },
  {
   "cell_type": "code",
   "execution_count": null,
   "id": "6452818b-4051-4af3-9a4c-7787fecbfced",
   "metadata": {},
   "outputs": [],
   "source": []
  }
 ],
 "metadata": {
  "kernelspec": {
   "display_name": "Python 3 (ipykernel)",
   "language": "python",
   "name": "python3"
  },
  "language_info": {
   "codemirror_mode": {
    "name": "ipython",
    "version": 3
   },
   "file_extension": ".py",
   "mimetype": "text/x-python",
   "name": "python",
   "nbconvert_exporter": "python",
   "pygments_lexer": "ipython3",
   "version": "3.13.5"
  }
 },
 "nbformat": 4,
 "nbformat_minor": 5
}

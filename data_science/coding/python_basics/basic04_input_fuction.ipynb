{
 "cells": [
  {
   "cell_type": "code",
   "execution_count": 1,
   "id": "936d6e96-92d7-4aea-b323-0768e5d08aea",
   "metadata": {},
   "outputs": [
    {
     "name": "stdin",
     "output_type": "stream",
     "text": [
      "enter the a: value 10\n"
     ]
    }
   ],
   "source": [
    "a=input(\"enter the a: value\")"
   ]
  },
  {
   "cell_type": "code",
   "execution_count": 2,
   "id": "f5591d7e-b351-48c5-b0cd-5c16d7111e9a",
   "metadata": {},
   "outputs": [
    {
     "data": {
      "text/plain": [
       "'10'"
      ]
     },
     "execution_count": 2,
     "metadata": {},
     "output_type": "execute_result"
    }
   ],
   "source": [
    "a"
   ]
  },
  {
   "cell_type": "code",
   "execution_count": 3,
   "id": "09862366-91be-475c-aa94-4fda0703ac8b",
   "metadata": {},
   "outputs": [
    {
     "data": {
      "text/plain": [
       "10"
      ]
     },
     "execution_count": 3,
     "metadata": {},
     "output_type": "execute_result"
    }
   ],
   "source": [
    "int(a)"
   ]
  },
  {
   "cell_type": "code",
   "execution_count": 5,
   "id": "31d67d1a-40cd-4262-b458-ddeceb485d57",
   "metadata": {},
   "outputs": [
    {
     "data": {
      "text/plain": [
       "20"
      ]
     },
     "execution_count": 5,
     "metadata": {},
     "output_type": "execute_result"
    }
   ],
   "source": [
    "int(a)+10"
   ]
  },
  {
   "cell_type": "code",
   "execution_count": 8,
   "id": "2b88cd20-8e9b-4a45-bd74-7386db4295df",
   "metadata": {},
   "outputs": [
    {
     "data": {
      "text/plain": [
       "'10100'"
      ]
     },
     "execution_count": 8,
     "metadata": {},
     "output_type": "execute_result"
    }
   ],
   "source": [
    "a+'100'"
   ]
  },
  {
   "cell_type": "code",
   "execution_count": 17,
   "id": "48bab312-2ef5-4d0c-ba35-7639fb77e378",
   "metadata": {},
   "outputs": [
    {
     "name": "stdin",
     "output_type": "stream",
     "text": [
      "Enter numbers separated by space:  20 40 50\n"
     ]
    }
   ],
   "source": [
    "lst = list(map(int, input(\"Enter numbers separated by space: \").split()))"
   ]
  },
  {
   "cell_type": "code",
   "execution_count": 21,
   "id": "fd26558d-63db-458e-9769-5cf24d774e91",
   "metadata": {},
   "outputs": [
    {
     "data": {
      "text/plain": [
       "[20, 40, 50]"
      ]
     },
     "execution_count": 21,
     "metadata": {},
     "output_type": "execute_result"
    }
   ],
   "source": [
    "lst"
   ]
  },
  {
   "cell_type": "code",
   "execution_count": 22,
   "id": "bee2d4fc-77f7-469e-ab09-3c70325f8dad",
   "metadata": {},
   "outputs": [
    {
     "name": "stdin",
     "output_type": "stream",
     "text": [
      "Enter the float number:: 494949494.499449494949494949\n"
     ]
    }
   ],
   "source": [
    "y=float(input(\"Enter the float number::\"))"
   ]
  },
  {
   "cell_type": "code",
   "execution_count": 23,
   "id": "fd64e50a-0488-46fc-9034-00377bd97033",
   "metadata": {},
   "outputs": [
    {
     "name": "stdout",
     "output_type": "stream",
     "text": [
      "494949494.4994495\n"
     ]
    }
   ],
   "source": [
    "print(y)"
   ]
  }
 ],
 "metadata": {
  "kernelspec": {
   "display_name": "Python 3 (ipykernel)",
   "language": "python",
   "name": "python3"
  },
  "language_info": {
   "codemirror_mode": {
    "name": "ipython",
    "version": 3
   },
   "file_extension": ".py",
   "mimetype": "text/x-python",
   "name": "python",
   "nbconvert_exporter": "python",
   "pygments_lexer": "ipython3",
   "version": "3.13.5"
  }
 },
 "nbformat": 4,
 "nbformat_minor": 5
}

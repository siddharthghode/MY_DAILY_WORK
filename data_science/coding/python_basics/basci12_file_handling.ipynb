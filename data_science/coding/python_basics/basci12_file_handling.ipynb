{
 "cells": [
  {
   "cell_type": "code",
   "execution_count": 9,
   "id": "f0bed050-1efc-4969-be33-e45dc64d69b2",
   "metadata": {},
   "outputs": [
    {
     "name": "stdout",
     "output_type": "stream",
     "text": [
      "hello world,world\n"
     ]
    }
   ],
   "source": [
    "f=open('file.txt','w')\n",
    "f.write(\"hello world,world\")\n",
    "f.close()\n",
    "a=open('file.txt','r')\n",
    "file=a.read()\n",
    "print(file)\n",
    "a.close()\n"
   ]
  },
  {
   "cell_type": "code",
   "execution_count": null,
   "id": "99347669-2448-4d59-a916-abb995e6650b",
   "metadata": {},
   "outputs": [],
   "source": []
  }
 ],
 "metadata": {
  "kernelspec": {
   "display_name": "Python 3 (ipykernel)",
   "language": "python",
   "name": "python3"
  },
  "language_info": {
   "codemirror_mode": {
    "name": "ipython",
    "version": 3
   },
   "file_extension": ".py",
   "mimetype": "text/x-python",
   "name": "python",
   "nbconvert_exporter": "python",
   "pygments_lexer": "ipython3",
   "version": "3.13.5"
  }
 },
 "nbformat": 4,
 "nbformat_minor": 5
}

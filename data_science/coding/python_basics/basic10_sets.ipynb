{
 "cells": [
  {
   "cell_type": "code",
   "execution_count": 11,
   "id": "4ae8e566-2f1e-453e-8b83-33dd86b64720",
   "metadata": {},
   "outputs": [
    {
     "name": "stdin",
     "output_type": "stream",
     "text": [
      " 4\n"
     ]
    },
    {
     "name": "stdout",
     "output_type": "stream",
     "text": [
      "5\n"
     ]
    }
   ],
   "source": [
    "def count_staircase_ways(n):\n",
    "    \"\"\"\n",
    "    Calculates the number of ways to climb n stairs by taking 1 or 2 steps at a time.\n",
    "    \"\"\"\n",
    "    # Define the modulo for large numbers, a common practice in competitive programming.\n",
    "    MOD = 10**9 + 7\n",
    "\n",
    "    # Base cases\n",
    "    if n == 1:\n",
    "        return 1\n",
    "    if n == 2:\n",
    "        return 2\n",
    "\n",
    "    # Initialize the first two values of our sequence (ways(1) and ways(2))\n",
    "    a = 1  # Represents ways(i-2)\n",
    "    b = 2  # Represents ways(i-1)\n",
    "\n",
    "    # Iterate from 3 to n to calculate ways(n)\n",
    "    # We don't need to store the whole sequence, just the last two numbers.\n",
    "    for _ in range(3, n + 1):\n",
    "        # The new value is the sum of the previous two, modulo MOD\n",
    "        current = (a + b) % MOD\n",
    "        \n",
    "        # Update the pointers for the next iteration\n",
    "        a = b\n",
    "        b = current\n",
    "    \n",
    "    return b\n",
    "\n",
    "# --- Main execution ---\n",
    "try:\n",
    "    # Read the number of steps from input\n",
    "    n = int(input())\n",
    "    \n",
    "    # Calculate and print the result\n",
    "    result = count_staircase_ways(n)\n",
    "    print(result)\n",
    "\n",
    "except (ValueError, EOFError):\n",
    "    # Handle potential empty input or non-integer input\n",
    "    print(\"Invalid input. Please provide a single integer.\")"
   ]
  },
  {
   "cell_type": "code",
   "execution_count": 6,
   "id": "d4a1dd86-0021-41ee-a3ab-936fbc589b37",
   "metadata": {},
   "outputs": [
    {
     "name": "stdout",
     "output_type": "stream",
     "text": [
      "{1, 2, 3, 4, 5, 6}\n"
     ]
    }
   ],
   "source": []
  }
 ],
 "metadata": {
  "kernelspec": {
   "display_name": "Python 3 (ipykernel)",
   "language": "python",
   "name": "python3"
  },
  "language_info": {
   "codemirror_mode": {
    "name": "ipython",
    "version": 3
   },
   "file_extension": ".py",
   "mimetype": "text/x-python",
   "name": "python",
   "nbconvert_exporter": "python",
   "pygments_lexer": "ipython3",
   "version": "3.13.5"
  }
 },
 "nbformat": 4,
 "nbformat_minor": 5
}

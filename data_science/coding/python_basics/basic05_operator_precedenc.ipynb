{
 "cells": [
  {
   "cell_type": "code",
   "execution_count": 2,
   "id": "ef051c86-d3f6-440c-aced-18c7427ce777",
   "metadata": {},
   "outputs": [
    {
     "name": "stdout",
     "output_type": "stream",
     "text": [
      "16\n",
      "36\n",
      "512\n"
     ]
    }
   ],
   "source": [
    "result = 10 + 2 * 3 # Multiplication happens first: 10 + (2 * 3) = 16\n",
    "print(result)\n",
    "result = (10 + 2) * 3 # Parentheses first: (10 + 2) * 3 = 36\n",
    "print(result)\n",
    "result = 2 ** 3 ** 2 # Right-to-left exponentiation: 2 ** (3 ** 2) = 2 ** 9 print(result)\n",
    "print(result)"
   ]
  }
 ],
 "metadata": {
  "kernelspec": {
   "display_name": "Python 3 (ipykernel)",
   "language": "python",
   "name": "python3"
  },
  "language_info": {
   "codemirror_mode": {
    "name": "ipython",
    "version": 3
   },
   "file_extension": ".py",
   "mimetype": "text/x-python",
   "name": "python",
   "nbconvert_exporter": "python",
   "pygments_lexer": "ipython3",
   "version": "3.13.5"
  }
 },
 "nbformat": 4,
 "nbformat_minor": 5
}

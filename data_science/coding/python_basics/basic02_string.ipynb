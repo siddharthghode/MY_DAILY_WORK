{
 "cells": [
  {
   "cell_type": "code",
   "execution_count": 2,
   "id": "9f9ad0aa-e6b0-457f-99a7-c9e96c208cf4",
   "metadata": {},
   "outputs": [],
   "source": [
    "name = \"Siddharth\""
   ]
  },
  {
   "cell_type": "code",
   "execution_count": 5,
   "id": "9b2bf458-c121-4b86-83ca-c986d44e1835",
   "metadata": {},
   "outputs": [
    {
     "data": {
      "text/plain": [
       "'SIDDHARTH'"
      ]
     },
     "execution_count": 5,
     "metadata": {},
     "output_type": "execute_result"
    }
   ],
   "source": [
    "name.upper()"
   ]
  },
  {
   "cell_type": "code",
   "execution_count": 7,
   "id": "f1aca38a-0632-4b17-8abb-bd6b626ef01c",
   "metadata": {},
   "outputs": [
    {
     "data": {
      "text/plain": [
       "1"
      ]
     },
     "execution_count": 7,
     "metadata": {},
     "output_type": "execute_result"
    }
   ],
   "source": [
    "name.count('r')"
   ]
  },
  {
   "cell_type": "code",
   "execution_count": 8,
   "id": "7a9337d7-55c2-445a-944e-ccf931248ab7",
   "metadata": {},
   "outputs": [
    {
     "data": {
      "text/plain": [
       "2"
      ]
     },
     "execution_count": 8,
     "metadata": {},
     "output_type": "execute_result"
    }
   ],
   "source": [
    "name.count('d')"
   ]
  },
  {
   "cell_type": "code",
   "execution_count": 10,
   "id": "2018bd01-d318-4239-8147-f2edf0aaf7d0",
   "metadata": {},
   "outputs": [
    {
     "name": "stdout",
     "output_type": "stream",
     "text": [
      "9\n"
     ]
    }
   ],
   "source": [
    "print(len(name))"
   ]
  },
  {
   "cell_type": "code",
   "execution_count": null,
   "id": "42cb9c5b-30a3-41e2-b000-7465bb0c76ab",
   "metadata": {},
   "outputs": [],
   "source": []
  }
 ],
 "metadata": {
  "kernelspec": {
   "display_name": "Python 3 (ipykernel)",
   "language": "python",
   "name": "python3"
  },
  "language_info": {
   "codemirror_mode": {
    "name": "ipython",
    "version": 3
   },
   "file_extension": ".py",
   "mimetype": "text/x-python",
   "name": "python",
   "nbconvert_exporter": "python",
   "pygments_lexer": "ipython3",
   "version": "3.13.5"
  }
 },
 "nbformat": 4,
 "nbformat_minor": 5
}

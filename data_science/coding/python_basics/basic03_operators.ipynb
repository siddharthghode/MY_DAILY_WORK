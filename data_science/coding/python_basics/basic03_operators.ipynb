{
 "cells": [
  {
   "cell_type": "code",
   "execution_count": 1,
   "id": "6265daaf-fe06-4ac3-a11a-2fddec4e9794",
   "metadata": {},
   "outputs": [],
   "source": [
    "a=14\n",
    "b=5"
   ]
  },
  {
   "cell_type": "code",
   "execution_count": 2,
   "id": "c23e7abc-c2a9-43f7-bc89-8334b6a86ff6",
   "metadata": {},
   "outputs": [
    {
     "data": {
      "text/plain": [
       "19"
      ]
     },
     "execution_count": 2,
     "metadata": {},
     "output_type": "execute_result"
    }
   ],
   "source": [
    "a + b  "
   ]
  },
  {
   "cell_type": "code",
   "execution_count": 3,
   "id": "ef8fd76e-5d1b-4ae7-a66e-7be69092dbc3",
   "metadata": {},
   "outputs": [
    {
     "data": {
      "text/plain": [
       "4"
      ]
     },
     "execution_count": 3,
     "metadata": {},
     "output_type": "execute_result"
    }
   ],
   "source": [
    "a%b"
   ]
  },
  {
   "cell_type": "code",
   "execution_count": 4,
   "id": "e34f972c-f9ea-4a73-93ad-373436b3de3c",
   "metadata": {},
   "outputs": [
    {
     "data": {
      "text/plain": [
       "2.8"
      ]
     },
     "execution_count": 4,
     "metadata": {},
     "output_type": "execute_result"
    }
   ],
   "source": [
    "a/b"
   ]
  },
  {
   "cell_type": "code",
   "execution_count": 5,
   "id": "7484ec39-1bf9-4889-bf3b-8f05163ef691",
   "metadata": {},
   "outputs": [
    {
     "data": {
      "text/plain": [
       "2"
      ]
     },
     "execution_count": 5,
     "metadata": {},
     "output_type": "execute_result"
    }
   ],
   "source": [
    "a//b"
   ]
  },
  {
   "cell_type": "code",
   "execution_count": 6,
   "id": "7554a7c6-981d-44ff-910f-91ae32914d3d",
   "metadata": {},
   "outputs": [
    {
     "data": {
      "text/plain": [
       "537824"
      ]
     },
     "execution_count": 6,
     "metadata": {},
     "output_type": "execute_result"
    }
   ],
   "source": [
    "a**b"
   ]
  },
  {
   "cell_type": "code",
   "execution_count": 7,
   "id": "c2825ef0-74b0-4e7e-8ede-d40c5ad7953b",
   "metadata": {},
   "outputs": [
    {
     "data": {
      "text/plain": [
       "11"
      ]
     },
     "execution_count": 7,
     "metadata": {},
     "output_type": "execute_result"
    }
   ],
   "source": [
    "a^b"
   ]
  },
  {
   "cell_type": "code",
   "execution_count": 8,
   "id": "1cfe3cae-2025-43ee-b32f-982c4c9230a1",
   "metadata": {},
   "outputs": [],
   "source": [
    "m1= True\n",
    "m2= False\n"
   ]
  },
  {
   "cell_type": "code",
   "execution_count": 9,
   "id": "66e2f73f-cd5f-45a5-bb9a-ea67bf80cfb3",
   "metadata": {},
   "outputs": [
    {
     "data": {
      "text/plain": [
       "False"
      ]
     },
     "execution_count": 9,
     "metadata": {},
     "output_type": "execute_result"
    }
   ],
   "source": [
    "m1 and m2"
   ]
  },
  {
   "cell_type": "code",
   "execution_count": 10,
   "id": "46f2c395-bddd-455a-9f9e-fe3d2b6dfb20",
   "metadata": {},
   "outputs": [
    {
     "data": {
      "text/plain": [
       "True"
      ]
     },
     "execution_count": 10,
     "metadata": {},
     "output_type": "execute_result"
    }
   ],
   "source": [
    "m1 or m2"
   ]
  },
  {
   "cell_type": "code",
   "execution_count": 11,
   "id": "54761278-5cb1-4579-95ab-e25bff0672e1",
   "metadata": {},
   "outputs": [
    {
     "data": {
      "text/plain": [
       "True"
      ]
     },
     "execution_count": 11,
     "metadata": {},
     "output_type": "execute_result"
    }
   ],
   "source": [
    "not(m2) and m1"
   ]
  },
  {
   "cell_type": "code",
   "execution_count": 12,
   "id": "156a8d27-f77f-498a-a147-709fc70ea946",
   "metadata": {},
   "outputs": [
    {
     "data": {
      "text/plain": [
       "True"
      ]
     },
     "execution_count": 12,
     "metadata": {},
     "output_type": "execute_result"
    }
   ],
   "source": [
    "not(m2) or m1"
   ]
  },
  {
   "cell_type": "code",
   "execution_count": 14,
   "id": "d77d2dbb-7317-4c8d-a36c-6843205051e3",
   "metadata": {},
   "outputs": [
    {
     "name": "stdin",
     "output_type": "stream",
     "text": [
      "Enter a number:  5\n"
     ]
    },
    {
     "name": "stdout",
     "output_type": "stream",
     "text": [
      "Binary: 101\n"
     ]
    }
   ],
   "source": [
    "num1 = int(input(\"Enter a number: \"))\n",
    "binary = bin(num1)[2:]\n",
    "print(\"Binary:\", binary)"
   ]
  },
  {
   "cell_type": "code",
   "execution_count": 15,
   "id": "ed9c045c-1ceb-4d23-8bd2-2abf013460c1",
   "metadata": {},
   "outputs": [
    {
     "name": "stdin",
     "output_type": "stream",
     "text": [
      "Enter a number:  3\n"
     ]
    },
    {
     "name": "stdout",
     "output_type": "stream",
     "text": [
      "Binary: 11\n"
     ]
    }
   ],
   "source": [
    "num2 = int(input(\"Enter a number: \"))\n",
    "binary = bin(num2)[2:]\n",
    "print(\"Binary:\", binary)"
   ]
  },
  {
   "cell_type": "code",
   "execution_count": 17,
   "id": "05955ce9-7179-4c1b-b3a1-e58439a8c57b",
   "metadata": {},
   "outputs": [
    {
     "data": {
      "text/plain": [
       "1"
      ]
     },
     "execution_count": 17,
     "metadata": {},
     "output_type": "execute_result"
    }
   ],
   "source": [
    "num1 & num2"
   ]
  },
  {
   "cell_type": "code",
   "execution_count": 24,
   "id": "25ba7ec0-0c4a-4987-a334-61674e709164",
   "metadata": {},
   "outputs": [
    {
     "data": {
      "text/plain": [
       "True"
      ]
     },
     "execution_count": 24,
     "metadata": {},
     "output_type": "execute_result"
    }
   ],
   "source": [
    "lst=[1,2,3]\n",
    "2 in lst\n",
    "5 not in lst"
   ]
  },
  {
   "cell_type": "code",
   "execution_count": null,
   "id": "8958ce34-03e0-4111-adb3-7464d296349f",
   "metadata": {},
   "outputs": [],
   "source": []
  }
 ],
 "metadata": {
  "kernelspec": {
   "display_name": "Python 3 (ipykernel)",
   "language": "python",
   "name": "python3"
  },
  "language_info": {
   "codemirror_mode": {
    "name": "ipython",
    "version": 3
   },
   "file_extension": ".py",
   "mimetype": "text/x-python",
   "name": "python",
   "nbconvert_exporter": "python",
   "pygments_lexer": "ipython3",
   "version": "3.13.5"
  }
 },
 "nbformat": 4,
 "nbformat_minor": 5
}

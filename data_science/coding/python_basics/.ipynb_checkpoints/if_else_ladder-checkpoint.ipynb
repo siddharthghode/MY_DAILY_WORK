{
 "cells": [
  {
   "cell_type": "code",
   "execution_count": 4,
   "id": "0ca5fde5-7b1d-4cf3-b360-147e7f3ae258",
   "metadata": {},
   "outputs": [
    {
     "name": "stdout",
     "output_type": "stream",
     "text": [
      "it is greater than 200\n"
     ]
    }
   ],
   "source": [
    "a=300\n",
    "if(a>200):\n",
    "    print(\"it is greater than 200\")\n",
    "elif(a>100):\n",
    "    print(\"it is greater than 100\")\n",
    "else:\n",
    "    print(\"it is greater than 0\")\n"
   ]
  },
  {
   "cell_type": "code",
   "execution_count": 4,
   "id": "6337362b-bbc0-4264-ac7d-d04c04b4f5f2",
   "metadata": {},
   "outputs": [
    {
     "name": "stdin",
     "output_type": "stream",
     "text": [
      "Enter the marks you have gotten 39\n"
     ]
    },
    {
     "name": "stdout",
     "output_type": "stream",
     "text": [
      "Grade F (Fail)\n"
     ]
    }
   ],
   "source": [
    "Marks=int(input(\"Enter the marks you have gotten\"))\n",
    "if(Marks >= 90):\n",
    "   print(\"grade A\")\n",
    "elif(Marks >= 75):\n",
    "   print(\"Grade B\")\n",
    "elif Marks >= 60:\n",
    "    print(\"Grade C\")  # If marks are 60 or above (but less than 75), the grade is C.\n",
    "elif Marks >= 40:\n",
    "    print(\"Grade D\")  # If marks are 40 or above (but less than 60), the grade is D.\n",
    "else:\n",
    "    print(\"Grade F (Fail)\")"
   ]
  },
  {
   "cell_type": "code",
   "execution_count": 6,
   "id": "804f1090-dbc9-446b-9d1f-0a669aed8fe0",
   "metadata": {},
   "outputs": [
    {
     "ename": "SyntaxError",
     "evalue": "expected ':' (3124415828.py, line 2)",
     "output_type": "error",
     "traceback": [
      "  \u001b[36mCell\u001b[39m\u001b[36m \u001b[39m\u001b[32mIn[6]\u001b[39m\u001b[32m, line 2\u001b[39m\n\u001b[31m    \u001b[39m\u001b[31mif(number%2==0)\u001b[39m\n                   ^\n\u001b[31mSyntaxError\u001b[39m\u001b[31m:\u001b[39m expected ':'\n"
     ]
    }
   ],
   "source": [
    "number=int(input(\"Enter the number for checking\"))\n",
    "if(number%2==0)"
   ]
  },
  {
   "cell_type": "code",
   "execution_count": 31,
   "id": "608e808f-4103-44ff-a8a9-db0902d2792b",
   "metadata": {},
   "outputs": [],
   "source": [
    "number=50\n",
    "if(str(number)==\"\".join(reversed(str(number)))):\n",
    "    print(\"yes it is even and palindrome\")"
   ]
  },
  {
   "cell_type": "code",
   "execution_count": 29,
   "id": "4878dea5-96db-4129-b527-ab491c2b4f6a",
   "metadata": {},
   "outputs": [
    {
     "name": "stdout",
     "output_type": "stream",
     "text": [
      "The number 505 is a palindrome.\n"
     ]
    }
   ],
   "source": [
    "\n",
    "number = 505\n",
    "num_str = str(number)\n",
    "\n",
    "\n",
    "reversed_num_str = \"\".join(reversed(num_str))\n",
    "\n",
    "\n",
    "if num_str == reversed_num_str:\n",
    "    print(f\"The number {number} is a palindrome.\")\n",
    "else:\n",
    "    print(f\"The number {number} is NOT a palindrome.\")\n",
    "\n"
   ]
  },
  {
   "cell_type": "code",
   "execution_count": null,
   "id": "bb585f44-63c8-4c62-b0c4-70954754a20f",
   "metadata": {},
   "outputs": [],
   "source": []
  }
 ],
 "metadata": {
  "kernelspec": {
   "display_name": "Python 3 (ipykernel)",
   "language": "python",
   "name": "python3"
  },
  "language_info": {
   "codemirror_mode": {
    "name": "ipython",
    "version": 3
   },
   "file_extension": ".py",
   "mimetype": "text/x-python",
   "name": "python",
   "nbconvert_exporter": "python",
   "pygments_lexer": "ipython3",
   "version": "3.13.5"
  }
 },
 "nbformat": 4,
 "nbformat_minor": 5
}

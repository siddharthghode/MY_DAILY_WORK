{
 "cells": [
  {
   "cell_type": "code",
   "execution_count": 13,
   "id": "ebd1f1c5-bca1-4763-a6f2-66e05c96f109",
   "metadata": {},
   "outputs": [
    {
     "name": "stdout",
     "output_type": "stream",
     "text": [
      "reponse ok\n",
      "end of Program\n"
     ]
    }
   ],
   "source": [
    "match code:\n",
    "    case 200:\n",
    "        print(\"reponse ok\")\n",
    "    case 400:\n",
    "        print(\"bad response\")\n",
    "    case 404:\n",
    "        print(\"not found\")\n",
    "print(\"end of Program\")"
   ]
  },
  {
   "cell_type": "code",
   "execution_count": null,
   "id": "e6b4825c-e2d3-4543-aeb4-1f0a44e5bf86",
   "metadata": {},
   "outputs": [],
   "source": []
  }
 ],
 "metadata": {
  "kernelspec": {
   "display_name": "Python 3 (ipykernel)",
   "language": "python",
   "name": "python3"
  },
  "language_info": {
   "codemirror_mode": {
    "name": "ipython",
    "version": 3
   },
   "file_extension": ".py",
   "mimetype": "text/x-python",
   "name": "python",
   "nbconvert_exporter": "python",
   "pygments_lexer": "ipython3",
   "version": "3.13.5"
  }
 },
 "nbformat": 4,
 "nbformat_minor": 5
}

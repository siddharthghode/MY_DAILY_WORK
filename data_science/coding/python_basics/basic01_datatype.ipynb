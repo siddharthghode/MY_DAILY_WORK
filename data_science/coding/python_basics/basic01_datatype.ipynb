{
 "cells": [
  {
   "cell_type": "code",
   "execution_count": 1,
   "id": "64961b27-26e7-4359-baaf-800f51ffb825",
   "metadata": {},
   "outputs": [],
   "source": [
    "a = 31.90\n"
   ]
  },
  {
   "cell_type": "code",
   "execution_count": 2,
   "id": "d85b4778-c842-49ef-8291-65685a089831",
   "metadata": {},
   "outputs": [
    {
     "name": "stdout",
     "output_type": "stream",
     "text": [
      "<class 'float'>\n"
     ]
    }
   ],
   "source": [
    "print(type(a))"
   ]
  },
  {
   "cell_type": "code",
   "execution_count": 4,
   "id": "36e55c63-7364-4e47-893e-f55e3c5d4805",
   "metadata": {},
   "outputs": [
    {
     "name": "stdout",
     "output_type": "stream",
     "text": [
      "<class 'str'>\n"
     ]
    }
   ],
   "source": [
    "b = \"hello world\"\n",
    "print(type(b))\n"
   ]
  },
  {
   "cell_type": "code",
   "execution_count": 5,
   "id": "3474b3f3-2e6f-4c0f-8643-01da120a223d",
   "metadata": {},
   "outputs": [
    {
     "name": "stdout",
     "output_type": "stream",
     "text": [
      "<class 'int'>\n"
     ]
    }
   ],
   "source": [
    "c = 45\n",
    "print(type(c))"
   ]
  },
  {
   "cell_type": "code",
   "execution_count": 6,
   "id": "7d8919d7-0144-4d06-b9af-1be1d5af3099",
   "metadata": {},
   "outputs": [],
   "source": [
    "str1 = \"456\""
   ]
  },
  {
   "cell_type": "code",
   "execution_count": 7,
   "id": "459f6877-4821-41c8-b108-86b89681c42b",
   "metadata": {},
   "outputs": [],
   "source": [
    "str2 = \"585\""
   ]
  },
  {
   "cell_type": "code",
   "execution_count": 9,
   "id": "d263c0dd-504c-4ccc-bfa7-d1d19f5b0890",
   "metadata": {},
   "outputs": [
    {
     "data": {
      "text/plain": [
       "'456585'"
      ]
     },
     "execution_count": 9,
     "metadata": {},
     "output_type": "execute_result"
    }
   ],
   "source": [
    "str1+str2\n"
   ]
  },
  {
   "cell_type": "code",
   "execution_count": 10,
   "id": "c9729689-317d-4873-83c9-4141ba389ee1",
   "metadata": {},
   "outputs": [
    {
     "data": {
      "text/plain": [
       "1041"
      ]
     },
     "execution_count": 10,
     "metadata": {},
     "output_type": "execute_result"
    }
   ],
   "source": [
    "int(str1)+int(str2)"
   ]
  }
 ],
 "metadata": {
  "kernelspec": {
   "display_name": "Python 3 (ipykernel)",
   "language": "python",
   "name": "python3"
  },
  "language_info": {
   "codemirror_mode": {
    "name": "ipython",
    "version": 3
   },
   "file_extension": ".py",
   "mimetype": "text/x-python",
   "name": "python",
   "nbconvert_exporter": "python",
   "pygments_lexer": "ipython3",
   "version": "3.13.5"
  }
 },
 "nbformat": 4,
 "nbformat_minor": 5
}

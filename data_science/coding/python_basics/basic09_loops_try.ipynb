{
 "cells": [
  {
   "cell_type": "code",
   "execution_count": 7,
   "id": "7ea91df6-572e-472c-85c2-9216e5344cfd",
   "metadata": {},
   "outputs": [
    {
     "name": "stdout",
     "output_type": "stream",
     "text": [
      "The colors are red\n",
      "The colors are green\n",
      "The colors are blue\n"
     ]
    }
   ],
   "source": [
    "#for loop\n",
    "colors = ['red', 'green', 'blue']\n",
    "for color in colors:\n",
    "    print(f\"The colors are {color}\")"
   ]
  },
  {
   "cell_type": "code",
   "execution_count": null,
   "id": "ac677276-86e9-4268-8edf-8cd5643777f8",
   "metadata": {},
   "outputs": [],
   "source": [
    "#while loop \n",
    "sum=0\n",
    "while "
   ]
  }
 ],
 "metadata": {
  "kernelspec": {
   "display_name": "Python 3 (ipykernel)",
   "language": "python",
   "name": "python3"
  },
  "language_info": {
   "codemirror_mode": {
    "name": "ipython",
    "version": 3
   },
   "file_extension": ".py",
   "mimetype": "text/x-python",
   "name": "python",
   "nbconvert_exporter": "python",
   "pygments_lexer": "ipython3",
   "version": "3.13.5"
  }
 },
 "nbformat": 4,
 "nbformat_minor": 5
}

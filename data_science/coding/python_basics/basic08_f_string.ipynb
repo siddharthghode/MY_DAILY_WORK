{
 "cells": [
  {
   "cell_type": "code",
   "execution_count": 3,
   "id": "8f614cf7-2787-4966-b16a-502dc3922a63",
   "metadata": {},
   "outputs": [
    {
     "name": "stdout",
     "output_type": "stream",
     "text": [
      "my name is siddharth and my age is 21\n"
     ]
    }
   ],
   "source": [
    "#syntax with format of .format(variables)\n",
    "name=\"siddharth\"\n",
    "age=21\n",
    "print(\"my name is {} and my age is {}\".format(name,age))"
   ]
  },
  {
   "cell_type": "code",
   "execution_count": 5,
   "id": "bd2c7fd4-f3d5-4ee5-98c6-2be24be3b013",
   "metadata": {},
   "outputs": [
    {
     "name": "stdout",
     "output_type": "stream",
     "text": [
      "my name is siddharth and my age is 21\n"
     ]
    }
   ],
   "source": [
    "#syntax with format of f\"{varibles} and {variables}\"\n",
    "name=\"siddharth\"\n",
    "age=21\n",
    "print(f\"my name is {name} and my age is {age}\")"
   ]
  },
  {
   "cell_type": "code",
   "execution_count": null,
   "id": "c514aea8-27bd-4a51-9599-d64daa1847d4",
   "metadata": {},
   "outputs": [],
   "source": []
  }
 ],
 "metadata": {
  "kernelspec": {
   "display_name": "Python 3 (ipykernel)",
   "language": "python",
   "name": "python3"
  },
  "language_info": {
   "codemirror_mode": {
    "name": "ipython",
    "version": 3
   },
   "file_extension": ".py",
   "mimetype": "text/x-python",
   "name": "python",
   "nbconvert_exporter": "python",
   "pygments_lexer": "ipython3",
   "version": "3.13.5"
  }
 },
 "nbformat": 4,
 "nbformat_minor": 5
}
